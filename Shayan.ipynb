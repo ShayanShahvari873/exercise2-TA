{
 "cells": [
  {
   "cell_type": "raw",
   "id": "49117ad7-82d0-4197-944e-a0f6e136a541",
   "metadata": {},
   "source": [
    "2+2"
   ]
  },
  {
   "cell_type": "markdown",
   "id": "f345334a-6fd0-4625-bfe0-21cd6cf8676f",
   "metadata": {},
   "source": [
    "## "
   ]
  },
  {
   "cell_type": "code",
   "execution_count": 2,
   "id": "e5bcbde9-7d10-403c-b347-86485f806457",
   "metadata": {},
   "outputs": [
    {
     "data": {
      "text/plain": [
       "4"
      ]
     },
     "execution_count": 2,
     "metadata": {},
     "output_type": "execute_result"
    }
   ],
   "source": [
    "2+2"
   ]
  },
  {
   "cell_type": "code",
   "execution_count": null,
   "id": "c834b93b-ac20-4177-af08-5e3dbe5253a2",
   "metadata": {},
   "outputs": [],
   "source": []
  },
  {
   "cell_type": "code",
   "execution_count": null,
   "id": "796723db-9cf4-408e-be81-531d41b40798",
   "metadata": {},
   "outputs": [],
   "source": []
  },
  {
   "cell_type": "code",
   "execution_count": 3,
   "id": "b0a7032a-bbe4-4d4c-8fe6-ad424f1457bc",
   "metadata": {},
   "outputs": [
    {
     "data": {
      "text/plain": [
       "4"
      ]
     },
     "execution_count": 3,
     "metadata": {},
     "output_type": "execute_result"
    }
   ],
   "source": [
    "2+2\n",
    "\n",
    "\n",
    "\n"
   ]
  },
  {
   "cell_type": "code",
   "execution_count": 4,
   "id": "ea3e383d-aaf2-465f-8b07-4500f800c1e4",
   "metadata": {},
   "outputs": [
    {
     "data": {
      "text/plain": [
       "4"
      ]
     },
     "execution_count": 4,
     "metadata": {},
     "output_type": "execute_result"
    }
   ],
   "source": [
    "2+2"
   ]
  },
  {
   "cell_type": "markdown",
   "id": "e8fb81b4-3635-4aea-83d4-5b9649da5a1b",
   "metadata": {},
   "source": [
    "2+2 "
   ]
  },
  {
   "cell_type": "raw",
   "id": "5b50d892-0d4f-43b9-b99f-b2f6d2921540",
   "metadata": {},
   "source": [
    "2+2"
   ]
  },
  {
   "cell_type": "code",
   "execution_count": 6,
   "id": "adcecaf1-c0fa-44f0-b371-c7f9fa272fc1",
   "metadata": {},
   "outputs": [
    {
     "data": {
      "text/plain": [
       "4"
      ]
     },
     "execution_count": 6,
     "metadata": {},
     "output_type": "execute_result"
    }
   ],
   "source": [
    "2+2"
   ]
  },
  {
   "cell_type": "code",
   "execution_count": 7,
   "id": "cb51daef-97b1-4373-ada0-cc3ceb8896f0",
   "metadata": {},
   "outputs": [
    {
     "data": {
      "text/plain": [
       "6"
      ]
     },
     "execution_count": 7,
     "metadata": {},
     "output_type": "execute_result"
    }
   ],
   "source": [
    "3+3"
   ]
  },
  {
   "cell_type": "code",
   "execution_count": 8,
   "id": "dff92ca9-af0a-44f2-bdcf-2b9443fe0cef",
   "metadata": {},
   "outputs": [
    {
     "name": "stdout",
     "output_type": "stream",
     "text": [
      "14\n"
     ]
    }
   ],
   "source": [
    "a= 9+5\n",
    "print(a)"
   ]
  },
  {
   "cell_type": "code",
   "execution_count": 9,
   "id": "7431a998-83a5-4bf7-873b-d047d4b9137b",
   "metadata": {},
   "outputs": [
    {
     "data": {
      "text/plain": [
       "4"
      ]
     },
     "execution_count": 9,
     "metadata": {},
     "output_type": "execute_result"
    }
   ],
   "source": [
    "2+2"
   ]
  },
  {
   "cell_type": "code",
   "execution_count": 10,
   "id": "b0803a9c-2591-433b-960a-854addd47b79",
   "metadata": {},
   "outputs": [
    {
     "data": {
      "text/plain": [
       "4"
      ]
     },
     "execution_count": 10,
     "metadata": {},
     "output_type": "execute_result"
    }
   ],
   "source": [
    "2+2"
   ]
  },
  {
   "cell_type": "code",
   "execution_count": 11,
   "id": "1f8e0359-e9d4-406e-a05e-6cd65f6792e1",
   "metadata": {},
   "outputs": [
    {
     "data": {
      "text/plain": [
       "4"
      ]
     },
     "execution_count": 11,
     "metadata": {},
     "output_type": "execute_result"
    }
   ],
   "source": [
    "2+2"
   ]
  },
  {
   "cell_type": "code",
   "execution_count": 12,
   "id": "5e65fedc-a0a6-4aeb-8fb9-33c00882e6fa",
   "metadata": {},
   "outputs": [
    {
     "data": {
      "text/plain": [
       "4"
      ]
     },
     "execution_count": 12,
     "metadata": {},
     "output_type": "execute_result"
    }
   ],
   "source": [
    "2+2"
   ]
  },
  {
   "cell_type": "code",
   "execution_count": 13,
   "id": "751195b4-2b69-43c5-8db7-1ddd718d14ac",
   "metadata": {},
   "outputs": [
    {
     "data": {
      "text/plain": [
       "59"
      ]
     },
     "execution_count": 13,
     "metadata": {},
     "output_type": "execute_result"
    }
   ],
   "source": [
    "58+1"
   ]
  },
  {
   "cell_type": "code",
   "execution_count": 14,
   "id": "554c68b6-3fc6-4da5-bae9-aa7c0538786b",
   "metadata": {},
   "outputs": [
    {
     "data": {
      "text/plain": [
       "4"
      ]
     },
     "execution_count": 14,
     "metadata": {},
     "output_type": "execute_result"
    }
   ],
   "source": [
    "2+2"
   ]
  },
  {
   "cell_type": "code",
   "execution_count": 15,
   "id": "63ed4106-f331-44ad-b3ef-0b2538ba4719",
   "metadata": {},
   "outputs": [
    {
     "data": {
      "text/plain": [
       "4"
      ]
     },
     "execution_count": 15,
     "metadata": {},
     "output_type": "execute_result"
    }
   ],
   "source": [
    "2+2"
   ]
  },
  {
   "cell_type": "code",
   "execution_count": 16,
   "id": "0fcb77c9-9048-4785-85de-02ba3cb0031d",
   "metadata": {},
   "outputs": [
    {
     "data": {
      "text/plain": [
       "4"
      ]
     },
     "execution_count": 16,
     "metadata": {},
     "output_type": "execute_result"
    }
   ],
   "source": [
    "2+2"
   ]
  },
  {
   "cell_type": "code",
   "execution_count": 17,
   "id": "c31701b4-9458-4805-ae5d-02cf773e5590",
   "metadata": {},
   "outputs": [
    {
     "name": "stdout",
     "output_type": "stream",
     "text": [
      "40\n"
     ]
    }
   ],
   "source": [
    "shyan=(2+6)*5\n",
    "print(shyan)"
   ]
  },
  {
   "cell_type": "code",
   "execution_count": 18,
   "id": "3c67673d-66c3-48a8-a835-d9f73b043507",
   "metadata": {},
   "outputs": [
    {
     "data": {
      "text/plain": [
       "4"
      ]
     },
     "execution_count": 18,
     "metadata": {},
     "output_type": "execute_result"
    }
   ],
   "source": [
    "2+2"
   ]
  },
  {
   "cell_type": "raw",
   "id": "4c74550d-89f4-4946-93a6-d5c086ccb29e",
   "metadata": {},
   "source": [
    "2+2"
   ]
  },
  {
   "cell_type": "code",
   "execution_count": 19,
   "id": "726f45bd-09c4-4eec-902b-86bc56866ab8",
   "metadata": {},
   "outputs": [
    {
     "data": {
      "text/plain": [
       "7"
      ]
     },
     "execution_count": 19,
     "metadata": {},
     "output_type": "execute_result"
    }
   ],
   "source": [
    "2+5"
   ]
  },
  {
   "cell_type": "code",
   "execution_count": 20,
   "id": "dc3d6610-5cee-469f-b175-477af1a91c25",
   "metadata": {},
   "outputs": [],
   "source": [
    "a = 2+2"
   ]
  },
  {
   "cell_type": "code",
   "execution_count": 21,
   "id": "79b2afba-0477-44af-ab5e-273fd09d4dfe",
   "metadata": {},
   "outputs": [
    {
     "data": {
      "text/plain": [
       "4"
      ]
     },
     "execution_count": 21,
     "metadata": {},
     "output_type": "execute_result"
    }
   ],
   "source": [
    "a"
   ]
  },
  {
   "cell_type": "code",
   "execution_count": 22,
   "id": "0252bdc5-e09c-4070-b232-5e46539699a9",
   "metadata": {},
   "outputs": [],
   "source": [
    "b = 6+5"
   ]
  },
  {
   "cell_type": "code",
   "execution_count": 23,
   "id": "641d3c05-4ddb-4d58-b7bd-5f79795f39e5",
   "metadata": {},
   "outputs": [],
   "source": [
    "d = a and b"
   ]
  },
  {
   "cell_type": "code",
   "execution_count": 24,
   "id": "d7e7034f-c448-414a-b5c5-43f9be3c6e29",
   "metadata": {},
   "outputs": [
    {
     "data": {
      "text/plain": [
       "11"
      ]
     },
     "execution_count": 24,
     "metadata": {},
     "output_type": "execute_result"
    }
   ],
   "source": [
    "d"
   ]
  },
  {
   "cell_type": "code",
   "execution_count": 25,
   "id": "b8751ff7-1b27-4649-b861-0e71ded6da74",
   "metadata": {},
   "outputs": [
    {
     "data": {
      "text/plain": [
       "11"
      ]
     },
     "execution_count": 25,
     "metadata": {},
     "output_type": "execute_result"
    }
   ],
   "source": [
    "d\n"
   ]
  },
  {
   "cell_type": "code",
   "execution_count": 26,
   "id": "15f2ea2c-c451-42a2-8b76-d9775227eea6",
   "metadata": {},
   "outputs": [],
   "source": [
    "c = b and a"
   ]
  },
  {
   "cell_type": "code",
   "execution_count": 27,
   "id": "83040f23-d5d2-4b98-84ba-caaae69995e8",
   "metadata": {},
   "outputs": [
    {
     "data": {
      "text/plain": [
       "4"
      ]
     },
     "execution_count": 27,
     "metadata": {},
     "output_type": "execute_result"
    }
   ],
   "source": [
    "c"
   ]
  },
  {
   "cell_type": "code",
   "execution_count": 28,
   "id": "658d1c63-2d4a-4164-8cef-bc15ece8268b",
   "metadata": {},
   "outputs": [
    {
     "data": {
      "text/plain": [
       "0"
      ]
     },
     "execution_count": 28,
     "metadata": {},
     "output_type": "execute_result"
    }
   ],
   "source": [
    "a = 0\n",
    "b = 4\n",
    "c = a and b\n",
    "c"
   ]
  },
  {
   "cell_type": "code",
   "execution_count": 29,
   "id": "49cad785-e3db-43ec-8dd0-dc7e55e81ec3",
   "metadata": {},
   "outputs": [
    {
     "data": {
      "text/plain": [
       "0"
      ]
     },
     "execution_count": 29,
     "metadata": {},
     "output_type": "execute_result"
    }
   ],
   "source": [
    "a = 1\n",
    "c"
   ]
  },
  {
   "cell_type": "markdown",
   "id": "ffe35199-94b9-4016-8174-1f0c014a00e2",
   "metadata": {},
   "source": [
    "salam shayan shahvari hastam\n"
   ]
  },
  {
   "cell_type": "code",
   "execution_count": 31,
   "id": "b834a658-05c7-433e-b194-e4eec610c4bb",
   "metadata": {},
   "outputs": [],
   "source": [
    "# strings"
   ]
  },
  {
   "cell_type": "markdown",
   "id": "dcf42b85-5484-473c-a36d-47c6b93b22c2",
   "metadata": {},
   "source": [
    "# strings"
   ]
  },
  {
   "cell_type": "markdown",
   "id": "2764b64a-38d3-44ce-89ff-54a317bd8cdf",
   "metadata": {},
   "source": [
    "## strings"
   ]
  },
  {
   "cell_type": "markdown",
   "id": "40a705db-5e80-44f7-9377-dafcec665089",
   "metadata": {},
   "source": [
    "#### strings"
   ]
  },
  {
   "cell_type": "markdown",
   "id": "40d56454-07e2-4e74-8ca3-95be287b1c3d",
   "metadata": {},
   "source": [
    "### strings"
   ]
  },
  {
   "cell_type": "markdown",
   "id": "a7208b28-696d-4434-a135-1d10b49a079e",
   "metadata": {},
   "source": [
    "###### strings"
   ]
  },
  {
   "cell_type": "code",
   "execution_count": 37,
   "id": "52d7a1b3-fc49-4b5d-ade6-c93407cfa2e7",
   "metadata": {},
   "outputs": [
    {
     "name": "stdout",
     "output_type": "stream",
     "text": [
      "strings\n"
     ]
    }
   ],
   "source": [
    "print(\"strings\")"
   ]
  },
  {
   "cell_type": "markdown",
   "id": "c163c306-9f76-4941-b2d7-adf2dc0ff304",
   "metadata": {},
   "source": [
    "# general math\n",
    "## math\n",
    "### riazi"
   ]
  },
  {
   "cell_type": "markdown",
   "id": "abb4f534-1799-4550-8609-798df0db2bb6",
   "metadata": {},
   "source": [
    "* shayan *"
   ]
  },
  {
   "cell_type": "markdown",
   "id": "9f3f545c-333b-478a-80e6-49f3343e7c4e",
   "metadata": {},
   "source": [
    "*shayan*"
   ]
  },
  {
   "cell_type": "markdown",
   "id": "85d823d7-3a53-4026-8ac9-3ec2928ced76",
   "metadata": {},
   "source": [
    "* shayan *"
   ]
  },
  {
   "cell_type": "markdown",
   "id": "3216ae71-d0ff-4326-84f1-d83e307316c7",
   "metadata": {},
   "source": [
    "* shayan\n",
    "* parsa\n",
    "* sourosh"
   ]
  },
  {
   "cell_type": "markdown",
   "id": "3a70bd86-1ef5-4b11-a0ed-6834ae5d7920",
   "metadata": {},
   "source": [
    "__ shayan"
   ]
  },
  {
   "cell_type": "markdown",
   "id": "fca1dd94-17e9-425a-a4e2-e3d81e9d9356",
   "metadata": {},
   "source": [
    "__shayan__"
   ]
  },
  {
   "cell_type": "markdown",
   "id": "be9ec201-975d-49dd-8588-88ea0701d8f4",
   "metadata": {},
   "source": [
    "_ shayan"
   ]
  },
  {
   "cell_type": "markdown",
   "id": "66cdd356-826e-4b15-90bc-e56aad88183c",
   "metadata": {},
   "source": [
    "***shayan***"
   ]
  },
  {
   "cell_type": "markdown",
   "id": "97b17a13-3707-41fa-b377-46a88d7737dd",
   "metadata": {},
   "source": [
    "****shayan****"
   ]
  },
  {
   "cell_type": "markdown",
   "id": "965d1acd-572e-4804-99dd-1d6a4196a319",
   "metadata": {},
   "source": [
    "- item1\n",
    "- item2\n",
    "  - sag "
   ]
  },
  {
   "cell_type": "markdown",
   "id": "896ee12d-93c5-4611-84bb-709bed526b73",
   "metadata": {},
   "source": [
    "1. first\n",
    "2. second\n",
    "3. sag\n",
    "4. soul"
   ]
  },
  {
   "cell_type": "markdown",
   "id": "0ed24e56-718c-471b-b3b9-44942ef6545d",
   "metadata": {},
   "source": [
    "[click](https://jupyter.org)"
   ]
  },
  {
   "cell_type": "markdown",
   "id": "9b3b478f-829d-4359-9125-5c055aaf40a6",
   "metadata": {},
   "source": [
    "![jupyter_logo](https://jupyter.org/assets/homepage/main-logo.svg)"
   ]
  },
  {
   "cell_type": "markdown",
   "id": "b6cbdf62-04ef-46d5-9d64-d3d241559210",
   "metadata": {},
   "source": [
    "![alt_text](path-to-image)"
   ]
  },
  {
   "cell_type": "markdown",
   "id": "91bc9f77-a09f-4e05-ac30-54733b4dcf5c",
   "metadata": {},
   "source": [
    "![shayan text](images/2.jpg)"
   ]
  },
  {
   "cell_type": "code",
   "execution_count": 54,
   "id": "9508be68-4b2f-4bbe-8bed-3bd860a0bc90",
   "metadata": {},
   "outputs": [
    {
     "name": "stderr",
     "output_type": "stream",
     "text": [
      "'[shayan' is not recognized as an internal or external command,\n",
      "operable program or batch file.\n"
     ]
    }
   ],
   "source": [
    "![shayan text](images/2.jpg)"
   ]
  },
  {
   "cell_type": "markdown",
   "id": "6b297e69-07d6-44aa-82cc-e9680845110d",
   "metadata": {},
   "source": [
    "![shayan text](images/2.jpg)"
   ]
  },
  {
   "cell_type": "markdown",
   "id": "ed2645e6-ff7e-4243-9607-e78c01b0dea3",
   "metadata": {},
   "source": [
    "<img scr=\"images/2.jpg\"  alt=\"picture\" width=\"150\"    height=\"100\">"
   ]
  },
  {
   "cell_type": "markdown",
   "id": "6f02eb6c-b4f7-4ffb-937b-618a470db9b5",
   "metadata": {},
   "source": [
    "| header1 | header2 |\n",
    "|---------|---------|\n",
    "|  shayan | parsa   |\n",
    "|shahvari | khaki   |"
   ]
  },
  {
   "cell_type": "code",
   "execution_count": 58,
   "id": "946f4a77-50c4-4d0f-b31f-f04c1c539229",
   "metadata": {},
   "outputs": [
    {
     "data": {
      "text/plain": [
       "4"
      ]
     },
     "execution_count": 58,
     "metadata": {},
     "output_type": "execute_result"
    }
   ],
   "source": [
    "a = 3 and 4\n",
    "a"
   ]
  },
  {
   "cell_type": "code",
   "execution_count": 59,
   "id": "0c2af097-77d5-48aa-93cf-455b0935d2c1",
   "metadata": {},
   "outputs": [
    {
     "data": {
      "text/plain": [
       "3"
      ]
     },
     "execution_count": 59,
     "metadata": {},
     "output_type": "execute_result"
    }
   ],
   "source": [
    "a = 4 and 3\n",
    "a"
   ]
  },
  {
   "cell_type": "code",
   "execution_count": 60,
   "id": "504283c5-2692-429b-9ac7-3ddbdd074ae6",
   "metadata": {},
   "outputs": [
    {
     "data": {
      "text/plain": [
       "0"
      ]
     },
     "execution_count": 60,
     "metadata": {},
     "output_type": "execute_result"
    }
   ],
   "source": [
    "a = 0 and 4\n",
    "a"
   ]
  },
  {
   "cell_type": "code",
   "execution_count": 61,
   "id": "40ad156c-03e1-4473-bd46-55297ce270f8",
   "metadata": {},
   "outputs": [
    {
     "data": {
      "text/plain": [
       "4"
      ]
     },
     "execution_count": 61,
     "metadata": {},
     "output_type": "execute_result"
    }
   ],
   "source": [
    "a = 4 or 3\n",
    "a"
   ]
  },
  {
   "cell_type": "code",
   "execution_count": 62,
   "id": "eabdbb6b-1ed5-44bb-aec9-f0d224273bcd",
   "metadata": {},
   "outputs": [
    {
     "data": {
      "text/plain": [
       "3"
      ]
     },
     "execution_count": 62,
     "metadata": {},
     "output_type": "execute_result"
    }
   ],
   "source": [
    "a = 0 or 3\n",
    "a"
   ]
  },
  {
   "cell_type": "code",
   "execution_count": 63,
   "id": "23d91b78-ac9d-4d72-8d4e-5d262acc6a39",
   "metadata": {},
   "outputs": [
    {
     "data": {
      "text/plain": [
       "3"
      ]
     },
     "execution_count": 63,
     "metadata": {},
     "output_type": "execute_result"
    }
   ],
   "source": [
    "a = 3 or 0\n",
    "a"
   ]
  },
  {
   "cell_type": "code",
   "execution_count": 64,
   "id": "3954273d-a484-49db-8847-ec8cc439abba",
   "metadata": {},
   "outputs": [
    {
     "data": {
      "text/plain": [
       "0"
      ]
     },
     "execution_count": 64,
     "metadata": {},
     "output_type": "execute_result"
    }
   ],
   "source": [
    "a = 0 or 0\n",
    "a"
   ]
  },
  {
   "cell_type": "code",
   "execution_count": null,
   "id": "feb78a34-2782-4e4d-b946-3ee8aec3ba17",
   "metadata": {},
   "outputs": [],
   "source": []
  },
  {
   "cell_type": "code",
   "execution_count": 65,
   "id": "b152fdee-2163-4980-83a8-230544802f92",
   "metadata": {},
   "outputs": [
    {
     "data": {
      "text/plain": [
       "4"
      ]
     },
     "execution_count": 65,
     "metadata": {},
     "output_type": "execute_result"
    }
   ],
   "source": [
    "2+2"
   ]
  },
  {
   "cell_type": "code",
   "execution_count": 66,
   "id": "7d1d9f2b-931b-4108-a50c-3da1dfb69a48",
   "metadata": {},
   "outputs": [
    {
     "data": {
      "text/plain": [
       "1383"
      ]
     },
     "execution_count": 66,
     "metadata": {},
     "output_type": "execute_result"
    }
   ],
   "source": [
    "shayan_shahvari_birth = 1403 - 20  #snake_case\n",
    "shayan_shahvari_birth"
   ]
  },
  {
   "cell_type": "code",
   "execution_count": 67,
   "id": "5a95449c-14f8-4df9-9bc1-fe6f2825be9a",
   "metadata": {},
   "outputs": [
    {
     "data": {
      "text/plain": [
       "1392"
      ]
     },
     "execution_count": 67,
     "metadata": {},
     "output_type": "execute_result"
    }
   ],
   "source": [
    "shayanShahvariBirth = 1403 - 11  #camelCase\n",
    "shayanShahvariBirth"
   ]
  },
  {
   "cell_type": "code",
   "execution_count": 68,
   "id": "b88ff3f0-0be2-47af-a992-18193f6a7b37",
   "metadata": {},
   "outputs": [
    {
     "data": {
      "text/plain": [
       "'shayan'"
      ]
     },
     "execution_count": 68,
     "metadata": {},
     "output_type": "execute_result"
    }
   ],
   "source": [
    "my_name = \"shayan\"\n",
    "my_name"
   ]
  },
  {
   "cell_type": "code",
   "execution_count": 69,
   "id": "4c431260-1033-40fd-adc1-fd3288afb1e6",
   "metadata": {},
   "outputs": [
    {
     "data": {
      "text/plain": [
       "6"
      ]
     },
     "execution_count": 69,
     "metadata": {},
     "output_type": "execute_result"
    }
   ],
   "source": [
    "len(my_name)"
   ]
  },
  {
   "cell_type": "code",
   "execution_count": 70,
   "id": "213dbd1c-e161-454c-8fd3-70eb391c7edc",
   "metadata": {},
   "outputs": [
    {
     "name": "stdout",
     "output_type": "stream",
     "text": [
      "pass\n"
     ]
    },
    {
     "data": {
      "text/plain": [
       "14.0"
      ]
     },
     "execution_count": 70,
     "metadata": {},
     "output_type": "execute_result"
    }
   ],
   "source": [
    "sum = (13  + 11  + 14  + 18) / 4 \n",
    "if sum < 12:\n",
    "    print(\"fail\")\n",
    "else:\n",
    "    print(\"pass\")\n",
    "sum\n"
   ]
  },
  {
   "cell_type": "code",
   "execution_count": 71,
   "id": "12dda5c1-f165-48f6-8df4-688f239e6d6f",
   "metadata": {},
   "outputs": [
    {
     "name": "stdout",
     "output_type": "stream",
     "text": [
      "180\n"
     ]
    }
   ],
   "source": [
    "feet = 6\n",
    "centi = int(feet)* 30\n",
    "print(centi)"
   ]
  },
  {
   "cell_type": "code",
   "execution_count": 72,
   "id": "b5b66372-1177-4c38-88ad-74fef159674d",
   "metadata": {},
   "outputs": [
    {
     "name": "stdout",
     "output_type": "stream",
     "text": [
      "55\n"
     ]
    }
   ],
   "source": [
    "jam = 0\n",
    "for i  in range(11):\n",
    "    jam += i\n",
    "print(jam)\n",
    "    "
   ]
  },
  {
   "cell_type": "markdown",
   "id": "7a982a95-3988-42f7-97cd-90d7c7561b05",
   "metadata": {},
   "source": [
    "### exercise 1"
   ]
  },
  {
   "cell_type": "code",
   "execution_count": 74,
   "id": "59de98c1-f5ef-429c-a07f-89b0e7b5cbf3",
   "metadata": {},
   "outputs": [
    {
     "name": "stdin",
     "output_type": "stream",
     "text": [
      "enter your number 9\n",
      "enter your second number 9\n"
     ]
    },
    {
     "name": "stdout",
     "output_type": "stream",
     "text": [
      "9\n",
      "9\n",
      "both numbers are equal\n"
     ]
    }
   ],
   "source": [
    "num1 = int(input(\"enter your number\"))\n",
    "num2 = int(input(\"enter your second number\"))\n",
    "print(num1)\n",
    "print(num2)\n",
    "if num1 > num2:\n",
    "    print(\"num1 is bigger\")\n",
    "elif num1 < num2:\n",
    "    print(\"num2 is bigger\")  \n",
    "else:\n",
    "    print(\"both numbers are equal\")\n"
   ]
  },
  {
   "cell_type": "markdown",
   "id": "98292b2c-f6e7-45a3-82cb-6ee6ff53c2ed",
   "metadata": {},
   "source": [
    "### exercise 2"
   ]
  },
  {
   "cell_type": "code",
   "execution_count": 76,
   "id": "165b93d8-81e2-40d4-b351-1eee39a2ca49",
   "metadata": {},
   "outputs": [
    {
     "name": "stdin",
     "output_type": "stream",
     "text": [
      "please enter your radius 7\n"
     ]
    },
    {
     "name": "stdout",
     "output_type": "stream",
     "text": [
      "the area is: 153.9335\n"
     ]
    }
   ],
   "source": [
    "radius = float(input(\"please enter your radius\"))\n",
    "pi = 3.1415\n",
    "area = pi * (radius ** 2)\n",
    "print(\"the area is:\", area)"
   ]
  },
  {
   "cell_type": "markdown",
   "id": "8bdd7665-6675-4d22-ba95-a11de2f932ff",
   "metadata": {},
   "source": [
    "### exercise 3"
   ]
  },
  {
   "cell_type": "code",
   "execution_count": 78,
   "id": "0601a400-ea23-4f15-8177-d056f184171b",
   "metadata": {},
   "outputs": [
    {
     "name": "stdin",
     "output_type": "stream",
     "text": [
      "please enter your first number 6\n",
      "please enter your second number 6\n"
     ]
    },
    {
     "name": "stdout",
     "output_type": "stream",
     "text": [
      "14.0\n",
      "please enter again\n"
     ]
    },
    {
     "name": "stdin",
     "output_type": "stream",
     "text": [
      "please enter your first number 6\n",
      "please enter your second number 6\n"
     ]
    },
    {
     "name": "stdout",
     "output_type": "stream",
     "text": [
      "14.0\n",
      "please enter again\n"
     ]
    },
    {
     "name": "stdin",
     "output_type": "stream",
     "text": [
      "please enter your first number 12\n",
      "please enter your second number 14\n"
     ]
    },
    {
     "name": "stdout",
     "output_type": "stream",
     "text": [
      "the sum of two numbers are 26.0\n"
     ]
    }
   ],
   "source": [
    "while True:\n",
    "    num1 = float(input(\"please enter your first number\"))\n",
    "    num2 = float(input(\"please enter your second number\"))\n",
    "    total_sum = num1 + num2\n",
    "    if total_sum <= 20:\n",
    "        print(sum)\n",
    "        print(\"please enter again\")\n",
    "    else:\n",
    "        print(\"the sum of two numbers are\", total_sum)\n",
    "        break"
   ]
  },
  {
   "cell_type": "markdown",
   "id": "81084a2e-c209-4d9e-a965-f37708a4ce93",
   "metadata": {},
   "source": [
    "### jalase 2\n"
   ]
  },
  {
   "cell_type": "code",
   "execution_count": 80,
   "id": "e5611f96-c9b1-4439-abfe-767980836833",
   "metadata": {},
   "outputs": [
    {
     "name": "stdout",
     "output_type": "stream",
     "text": [
      "10\n"
     ]
    }
   ],
   "source": [
    "sum = 0\n",
    "list = [1,2,3,4]\n",
    "for i in list:\n",
    "    sum += i\n",
    "print(sum)"
   ]
  },
  {
   "cell_type": "code",
   "execution_count": 81,
   "id": "00a57e12-e7a2-48b2-be5b-ac2534a82efb",
   "metadata": {},
   "outputs": [
    {
     "ename": "TypeError",
     "evalue": "'int' object is not callable",
     "output_type": "error",
     "traceback": [
      "\u001b[1;31m---------------------------------------------------------------------------\u001b[0m",
      "\u001b[1;31mTypeError\u001b[0m                                 Traceback (most recent call last)",
      "Cell \u001b[1;32mIn[81], line 4\u001b[0m\n\u001b[0;32m      2\u001b[0m     \u001b[38;5;28;01mreturn\u001b[39;00m \u001b[38;5;28msum\u001b[39m(input_list)\n\u001b[0;32m      3\u001b[0m input_list \u001b[38;5;241m=\u001b[39m [\u001b[38;5;241m1\u001b[39m,\u001b[38;5;241m2\u001b[39m,\u001b[38;5;241m3\u001b[39m,\u001b[38;5;241m4\u001b[39m]\n\u001b[1;32m----> 4\u001b[0m output \u001b[38;5;241m=\u001b[39m sum_of_list(input_list)\n\u001b[0;32m      5\u001b[0m \u001b[38;5;28mprint\u001b[39m(output)\n",
      "Cell \u001b[1;32mIn[81], line 2\u001b[0m, in \u001b[0;36msum_of_list\u001b[1;34m(input_list)\u001b[0m\n\u001b[0;32m      1\u001b[0m \u001b[38;5;28;01mdef\u001b[39;00m \u001b[38;5;21msum_of_list\u001b[39m(input_list):\n\u001b[1;32m----> 2\u001b[0m     \u001b[38;5;28;01mreturn\u001b[39;00m \u001b[38;5;28msum\u001b[39m(input_list)\n",
      "\u001b[1;31mTypeError\u001b[0m: 'int' object is not callable"
     ]
    }
   ],
   "source": [
    "def sum_of_list(input_list):\n",
    "    return sum(input_list)\n",
    "input_list = [1,2,3,4]\n",
    "output = sum_of_list(input_list)\n",
    "print(output)\n"
   ]
  },
  {
   "cell_type": "code",
   "execution_count": null,
   "id": "37e81b23-2bf8-4fc7-867e-2de277e17636",
   "metadata": {},
   "outputs": [],
   "source": [
    "check_key = {'name': 'shayan', 'age':20}\n",
    "key = 'age'\n",
    "if key in check_key:\n",
    "    print(\"true\")\n",
    "else:\n",
    "    print(\"false\")"
   ]
  },
  {
   "cell_type": "code",
   "execution_count": null,
   "id": "adbe0d62-0b80-48e8-bb30-cb9592a7205a",
   "metadata": {},
   "outputs": [],
   "source": [
    "sag = [hello]\n",
    "print(sag.reverse())"
   ]
  },
  {
   "cell_type": "code",
   "execution_count": null,
   "id": "5d1bfd6b-e876-45ce-8a09-94daa3bc8d6a",
   "metadata": {},
   "outputs": [],
   "source": []
  }
 ],
 "metadata": {
  "kernelspec": {
   "display_name": "Python 3 (ipykernel)",
   "language": "python",
   "name": "python3"
  },
  "language_info": {
   "codemirror_mode": {
    "name": "ipython",
    "version": 3
   },
   "file_extension": ".py",
   "mimetype": "text/x-python",
   "name": "python",
   "nbconvert_exporter": "python",
   "pygments_lexer": "ipython3",
   "version": "3.12.4"
  }
 },
 "nbformat": 4,
 "nbformat_minor": 5
}
